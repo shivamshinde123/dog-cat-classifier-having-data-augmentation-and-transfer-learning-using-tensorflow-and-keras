{
  "cells": [
    {
      "cell_type": "code",
      "source": [
        "!mkdir -p ~/.kaggle\n",
        "!cp kaggle.json ~/.kaggle/"
      ],
      "metadata": {
        "id": "zalNU0nb8mjm"
      },
      "execution_count": 7,
      "outputs": []
    },
    {
      "cell_type": "code",
      "source": [
        "!kaggle datasets download -d salader/dogs-vs-cats"
      ],
      "metadata": {
        "colab": {
          "base_uri": "https://localhost:8080/"
        },
        "id": "_P6sSe8e8mZd",
        "outputId": "e12d0ae8-bbe4-4634-8fd1-7635fce594e6"
      },
      "execution_count": 8,
      "outputs": [
        {
          "output_type": "stream",
          "name": "stdout",
          "text": [
            "Warning: Your Kaggle API key is readable by other users on this system! To fix this, you can run 'chmod 600 /root/.kaggle/kaggle.json'\n",
            "dogs-vs-cats.zip: Skipping, found more recently modified local copy (use --force to force download)\n"
          ]
        }
      ]
    },
    {
      "cell_type": "code",
      "source": [
        "import zipfile\n",
        "zip_ref = zipfile.ZipFile('/content/dogs-vs-cats.zip', 'r')\n",
        "zip_ref.extractall('/content')\n",
        "zip_ref.close()"
      ],
      "metadata": {
        "id": "SjdyDqPC8rZG"
      },
      "execution_count": 9,
      "outputs": []
    },
    {
      "cell_type": "code",
      "execution_count": 10,
      "metadata": {
        "id": "IkoOcfHd8ikg"
      },
      "outputs": [],
      "source": [
        "from tensorflow import keras\n",
        "from keras.applications.resnet import ResNet50"
      ]
    },
    {
      "cell_type": "code",
      "execution_count": 11,
      "metadata": {
        "id": "vT5Q6UeI8ikj"
      },
      "outputs": [],
      "source": [
        "HEIGHT = 256\n",
        "WIDTH = 256\n",
        "\n",
        "base_model = ResNet50(weights='imagenet',\n",
        "                    include_top=False,\n",
        "                    input_shape=(HEIGHT,WIDTH,3))"
      ]
    },
    {
      "cell_type": "code",
      "execution_count": 12,
      "metadata": {
        "colab": {
          "base_uri": "https://localhost:8080/"
        },
        "id": "rpFQ_Tpo8ikk",
        "outputId": "62cfbce8-6c21-4029-fa0a-dfeb7fc4e761"
      },
      "outputs": [
        {
          "output_type": "stream",
          "name": "stdout",
          "text": [
            "Found 20000 files belonging to 2 classes.\n",
            "Found 5000 files belonging to 2 classes.\n"
          ]
        }
      ],
      "source": [
        "## getting data automatically from the folder\n",
        "\n",
        "from keras.utils import image_dataset_from_directory\n",
        "\n",
        "train_ds = image_dataset_from_directory(\n",
        "    directory=\"/content/train\",\n",
        "    labels='inferred',\n",
        "    label_mode='int',\n",
        "    batch_size=32,\n",
        "    image_size=(HEIGHT,WIDTH)\n",
        ")\n",
        "\n",
        "test_ds = image_dataset_from_directory(\n",
        "    directory=\"/content/test\",\n",
        "    labels='inferred',\n",
        "    label_mode = 'int',\n",
        "    batch_size=32,\n",
        "    image_size=(HEIGHT,WIDTH) \n",
        ")"
      ]
    },
    {
      "cell_type": "code",
      "execution_count": 13,
      "metadata": {
        "id": "3CY7sFr-8ikl"
      },
      "outputs": [],
      "source": [
        "from keras.layers import Dense, Flatten, Dropout\n",
        "from keras.models import  Model\n",
        "\n",
        "def build_finetune_model(base_model, dropout_ratio, num_of_fc_layers_lst, num_classes):\n",
        "\n",
        "    for layer in base_model.layers:\n",
        "        layer.trainable = False\n",
        "\n",
        "    x = base_model.output \n",
        "    x = Flatten()(x)\n",
        "    for num in num_of_fc_layers_lst:\n",
        "        x = Dense(num,activation='relu')(x)\n",
        "        # x = Dropout(dropout_ratio)(x)\n",
        "\n",
        "    predictions = Dense(num_classes,activation='sigmoid')(x)\n",
        "\n",
        "\n",
        "    finetune_model = Model(inputs=base_model.input,outputs=predictions)\n",
        "\n",
        "    return finetune_model\n",
        "\n",
        "\n",
        "dropout_ratio = 0.4,\n",
        "num_of_fc_layers_lst = [1024,1024]\n",
        "num_classes = 2\n",
        "\n",
        "finetune_model = build_finetune_model(base_model,dropout_ratio,num_of_fc_layers_lst,num_classes)\n"
      ]
    },
    {
      "cell_type": "code",
      "execution_count": 14,
      "metadata": {
        "id": "DvJk7q6X8ikm"
      },
      "outputs": [],
      "source": [
        "num_epochs = 10\n",
        "\n",
        "finetune_model.compile(loss='sparse_categorical_crossentropy', optimizer='adam',\n",
        "                        metrics=['accuracy'])"
      ]
    },
    {
      "cell_type": "code",
      "execution_count": 15,
      "metadata": {
        "colab": {
          "base_uri": "https://localhost:8080/"
        },
        "id": "UESgDCyx8ikm",
        "outputId": "7924297a-a3fe-45ee-d450-1cc7fbeacdd9"
      },
      "outputs": [
        {
          "output_type": "stream",
          "name": "stdout",
          "text": [
            "Epoch 1/10\n",
            "625/625 [==============================] - 131s 193ms/step - loss: 1.0556 - accuracy: 0.9611 - val_loss: 0.2626 - val_accuracy: 0.9580\n",
            "Epoch 2/10\n",
            "625/625 [==============================] - 120s 192ms/step - loss: 0.1567 - accuracy: 0.9790 - val_loss: 0.1834 - val_accuracy: 0.9694\n",
            "Epoch 3/10\n",
            "625/625 [==============================] - 120s 192ms/step - loss: 0.0365 - accuracy: 0.9913 - val_loss: 0.1626 - val_accuracy: 0.9772\n",
            "Epoch 4/10\n",
            "625/625 [==============================] - 120s 191ms/step - loss: 0.0273 - accuracy: 0.9948 - val_loss: 0.1747 - val_accuracy: 0.9794\n",
            "Epoch 5/10\n",
            "625/625 [==============================] - 120s 191ms/step - loss: 0.0190 - accuracy: 0.9964 - val_loss: 0.1174 - val_accuracy: 0.9788\n",
            "Epoch 6/10\n",
            "625/625 [==============================] - 120s 191ms/step - loss: 0.0121 - accuracy: 0.9973 - val_loss: 0.1375 - val_accuracy: 0.9790\n",
            "Epoch 7/10\n",
            "625/625 [==============================] - 120s 191ms/step - loss: 0.0134 - accuracy: 0.9970 - val_loss: 0.2419 - val_accuracy: 0.9782\n",
            "Epoch 8/10\n",
            "625/625 [==============================] - 120s 191ms/step - loss: 0.0424 - accuracy: 0.9937 - val_loss: 0.0867 - val_accuracy: 0.9786\n",
            "Epoch 9/10\n",
            "625/625 [==============================] - 120s 191ms/step - loss: 0.0093 - accuracy: 0.9973 - val_loss: 0.0952 - val_accuracy: 0.9792\n",
            "Epoch 10/10\n",
            "625/625 [==============================] - 120s 191ms/step - loss: 0.0023 - accuracy: 0.9995 - val_loss: 0.1505 - val_accuracy: 0.9758\n"
          ]
        }
      ],
      "source": [
        "history = finetune_model.fit(train_ds,validation_data=test_ds, epochs=num_epochs)"
      ]
    },
    {
      "cell_type": "code",
      "execution_count": 18,
      "metadata": {
        "colab": {
          "base_uri": "https://localhost:8080/",
          "height": 265
        },
        "id": "1gw7IKSE8ikn",
        "outputId": "2499a63b-a318-4886-a919-c8fd43def908"
      },
      "outputs": [
        {
          "output_type": "display_data",
          "data": {
            "text/plain": [
              "<Figure size 432x288 with 1 Axes>"
            ],
            "image/png": "[encoded data removed]"
          },
          "metadata": {
            "needs_background": "light"
          }
        }
      ],
      "source": [
        "import matplotlib.pyplot as plt\n",
        "\n",
        "plt.plot(history.history['accuracy'],color='red',label='training loss')\n",
        "plt.plot(history.history['val_accuracy'],color='blue',label='test loss')\n",
        "plt.legend()\n",
        "plt.show()"
      ]
    },
    {
      "cell_type": "code",
      "execution_count": 17,
      "metadata": {
        "colab": {
          "base_uri": "https://localhost:8080/",
          "height": 265
        },
        "id": "T3vk5J7A8ikn",
        "outputId": "ba0ee148-4850-48a9-8917-7f562ff255ce"
      },
      "outputs": [
        {
          "output_type": "display_data",
          "data": {
            "text/plain": [
              "<Figure size 432x288 with 1 Axes>"
            ],
            "image/png": "[encoded data removed]"
          },
          "metadata": {
            "needs_background": "light"
          }
        }
      ],
      "source": [
        "plt.plot(history.history['loss'],color='red',label='training loss')\n",
        "plt.plot(history.history['val_loss'],color='blue',label='test loss')\n",
        "plt.legend()\n",
        "plt.show()"
      ]
    },
    {
      "cell_type": "code",
      "execution_count": 17,
      "metadata": {
        "id": "Mr4aLxeL8iko"
      },
      "outputs": [],
      "source": []
    },
    {
      "cell_type": "code",
      "execution_count": 17,
      "metadata": {
        "id": "d4g_5-wi8iko"
      },
      "outputs": [],
      "source": []
    },
    {
      "cell_type": "code",
      "execution_count": 17,
      "metadata": {
        "id": "KfZpspnu8iko"
      },
      "outputs": [],
      "source": []
    }
  ],
  "metadata": {
    "kernelspec": {
      "display_name": "Python 3.10.2 64-bit",
      "language": "python",
      "name": "python3"
    },
    "language_info": {
      "codemirror_mode": {
        "name": "ipython",
        "version": 3
      },
      "file_extension": ".py",
      "mimetype": "text/x-python",
      "name": "python",
      "nbconvert_exporter": "python",
      "pygments_lexer": "ipython3",
      "version": "3.10.2"
    },
    "orig_nbformat": 4,
    "vscode": {
      "interpreter": {
        "hash": "26de051ba29f2982a8de78e945f0abaf191376122a1563185a90213a26c5da77"
      }
    },
    "colab": {
      "provenance": []
    },
    "accelerator": "GPU",
    "gpuClass": "standard"
  },
  "nbformat": 4,
  "nbformat_minor": 0
}