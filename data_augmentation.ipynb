{
  "cells": [
    {
      "cell_type": "code",
      "execution_count": 1,
      "metadata": {
        "id": "EyPAO6cGcetL"
      },
      "outputs": [],
      "source": [
        "# !mkdir -p ~/.kaggle\n",
        "# !cp kaggle.json ~/.kaggle/"
      ]
    },
    {
      "cell_type": "code",
      "execution_count": 2,
      "metadata": {
        "colab": {
          "base_uri": "https://localhost:8080/"
        },
        "id": "CnJricM1c-rt",
        "outputId": "19ea8f9d-b222-4bb0-a930-a6dc4a0dac06"
      },
      "outputs": [
        {
          "name": "stdout",
          "output_type": "stream",
          "text": [
            "Warning: Your Kaggle API key is readable by other users on this system! To fix this, you can run 'chmod 600 /root/.kaggle/kaggle.json'\n",
            "Downloading dogs-vs-cats.zip to /content\n",
            "100% 1.06G/1.06G [00:49<00:00, 23.9MB/s]\n",
            "100% 1.06G/1.06G [00:49<00:00, 23.2MB/s]\n"
          ]
        }
      ],
      "source": [
        "# !kaggle datasets download -d salader/dogs-vs-cats"
      ]
    },
    {
      "cell_type": "code",
      "execution_count": 3,
      "metadata": {
        "id": "FsQ29P6odA9H"
      },
      "outputs": [],
      "source": [
        "# import zipfile\n",
        "# zip_ref = zipfile.ZipFile('/content/dogs-vs-cats.zip', 'r')\n",
        "# zip_ref.extractall('/content')\n",
        "# zip_ref.close()"
      ]
    },
    {
      "cell_type": "code",
      "execution_count": 20,
      "metadata": {
        "colab": {
          "base_uri": "https://localhost:8080/"
        },
        "id": "qWs2mD7Wd4sa",
        "outputId": "4703d312-204a-4034-9eae-949988eb3d6c"
      },
      "outputs": [
        {
          "name": "stdout",
          "output_type": "stream",
          "text": [
            "Model: \"sequential_4\"\n",
            "_________________________________________________________________\n",
            " Layer (type)                Output Shape              Param #   \n",
            "=================================================================\n",
            " conv2d_6 (Conv2D)           (None, 254, 254, 32)      896       \n",
            "                                                                 \n",
            " batch_normalization_3 (Batc  (None, 254, 254, 32)     128       \n",
            " hNormalization)                                                 \n",
            "                                                                 \n",
            " max_pooling2d_6 (MaxPooling  (None, 127, 127, 32)     0         \n",
            " 2D)                                                             \n",
            "                                                                 \n",
            " conv2d_7 (Conv2D)           (None, 125, 125, 32)      9248      \n",
            "                                                                 \n",
            " batch_normalization_4 (Batc  (None, 125, 125, 32)     128       \n",
            " hNormalization)                                                 \n",
            "                                                                 \n",
            " max_pooling2d_7 (MaxPooling  (None, 62, 62, 32)       0         \n",
            " 2D)                                                             \n",
            "                                                                 \n",
            " conv2d_8 (Conv2D)           (None, 60, 60, 32)        9248      \n",
            "                                                                 \n",
            " batch_normalization_5 (Batc  (None, 60, 60, 32)       128       \n",
            " hNormalization)                                                 \n",
            "                                                                 \n",
            " max_pooling2d_8 (MaxPooling  (None, 30, 30, 32)       0         \n",
            " 2D)                                                             \n",
            "                                                                 \n",
            " flatten_2 (Flatten)         (None, 28800)             0         \n",
            "                                                                 \n",
            " dense_4 (Dense)             (None, 64)                1843264   \n",
            "                                                                 \n",
            " dropout_2 (Dropout)         (None, 64)                0         \n",
            "                                                                 \n",
            " dense_5 (Dense)             (None, 1)                 65        \n",
            "                                                                 \n",
            "=================================================================\n",
            "Total params: 1,863,105\n",
            "Trainable params: 1,862,913\n",
            "Non-trainable params: 192\n",
            "_________________________________________________________________\n"
          ]
        }
      ],
      "source": [
        "## creating a model\n",
        "import tensorflow as tf\n",
        "from keras.models import Sequential\n",
        "from keras.layers import Conv2D, MaxPooling2D, Dropout, Flatten, Dense, BatchNormalization\n",
        "\n",
        "model = Sequential()\n",
        "model.add(Conv2D(32, (3,3), input_shape=(256, 256, 3), activation='relu'))\n",
        "model.add(BatchNormalization())\n",
        "model.add(MaxPooling2D(pool_size=(2,2)))\n",
        "\n",
        "model.add(Conv2D(32, (3,3), activation='relu'))\n",
        "model.add(BatchNormalization())\n",
        "model.add(MaxPooling2D(pool_size=(2,2)))\n",
        "\n",
        "model.add(Conv2D(32, (3,3), activation='relu'))\n",
        "model.add(BatchNormalization())\n",
        "model.add(MaxPooling2D(pool_size=(2,2)))\n",
        "\n",
        "model.add(Flatten())\n",
        "model.add(Dense(64, activation='relu'))\n",
        "model.add(Dropout(0.2))\n",
        "model.add(Dense(1, activation='sigmoid'))\n",
        "\n",
        "model.summary()"
      ]
    },
    {
      "cell_type": "code",
      "execution_count": 21,
      "metadata": {
        "id": "pMrRqNp0f9OY"
      },
      "outputs": [],
      "source": [
        "## compiling a model \n",
        "model.compile(\n",
        "    loss='binary_crossentropy',\n",
        "    optimizer='adam',\n",
        "    metrics=['accuracy']\n",
        ")"
      ]
    },
    {
      "cell_type": "code",
      "execution_count": 22,
      "metadata": {
        "colab": {
          "base_uri": "https://localhost:8080/"
        },
        "id": "QpOmIipgkJXj",
        "outputId": "5dbc1fbf-068a-4e0a-8232-140d592d0a68"
      },
      "outputs": [
        {
          "name": "stdout",
          "output_type": "stream",
          "text": [
            "Found 20000 files belonging to 2 classes.\n",
            "Found 5000 files belonging to 2 classes.\n"
          ]
        }
      ],
      "source": [
        "## getting the data from the folders\n",
        "from keras.utils import image_dataset_from_directory\n",
        "\n",
        "train_dataset = image_dataset_from_directory(\n",
        "    directory = '/content/train',\n",
        "    labels = 'inferred',\n",
        "    label_mode = 'int',\n",
        "    batch_size = 32,\n",
        "    image_size = (256,256)\n",
        ")\n",
        "\n",
        "test_dataset = image_dataset_from_directory(\n",
        "    directory = '/content/test',\n",
        "    labels = 'inferred',\n",
        "    label_mode = 'int',\n",
        "    batch_size = 32,\n",
        "    image_size = (256,256)\n",
        ")"
      ]
    },
    {
      "cell_type": "code",
      "execution_count": 23,
      "metadata": {
        "id": "_4pm_qQHgRAv"
      },
      "outputs": [],
      "source": [
        "## this is the augmentation configuration we will use for training\n",
        "\n",
        "from tensorflow import keras\n",
        "from keras import layers\n",
        "\n",
        "# Create a data augmentation stage with horizontal flipping, rotations, zooms\n",
        "data_augmentation = keras.Sequential([\n",
        "    layers.RandomFlip('horizontal'),\n",
        "    layers.RandomRotation(0.1),\n",
        "    layers.RandomZoom(0.1)\n",
        "])\n",
        "\n",
        "train_dataset = train_dataset.map(lambda x,y: (data_augmentation(x),y))"
      ]
    },
    {
      "cell_type": "code",
      "execution_count": 28,
      "metadata": {
        "id": "y45yzQvgDrNB"
      },
      "outputs": [],
      "source": [
        "## using early stopping callback\n",
        "from keras.callbacks import EarlyStopping\n",
        "\n",
        "es_callback = EarlyStopping(patience=10,restore_best_weights=True)"
      ]
    },
    {
      "cell_type": "code",
      "execution_count": 29,
      "metadata": {
        "colab": {
          "base_uri": "https://localhost:8080/"
        },
        "id": "g6B7355f7asd",
        "outputId": "38bb8cd3-957d-440c-e265-8a54f56ef97f"
      },
      "outputs": [
        {
          "name": "stdout",
          "output_type": "stream",
          "text": [
            "Epoch 1/15\n",
            "625/625 [==============================] - 59s 94ms/step - loss: 0.4365 - accuracy: 0.7940 - val_loss: 0.5616 - val_accuracy: 0.6314\n",
            "Epoch 2/15\n",
            "625/625 [==============================] - 58s 92ms/step - loss: 0.3752 - accuracy: 0.8237 - val_loss: 0.5033 - val_accuracy: 0.7640\n",
            "Epoch 3/15\n",
            "625/625 [==============================] - 58s 92ms/step - loss: 0.3198 - accuracy: 0.8471 - val_loss: 0.4911 - val_accuracy: 0.7722\n",
            "Epoch 4/15\n",
            "625/625 [==============================] - 57s 91ms/step - loss: 0.2758 - accuracy: 0.8687 - val_loss: 0.5869 - val_accuracy: 0.7568\n",
            "Epoch 5/15\n",
            "625/625 [==============================] - 58s 93ms/step - loss: 0.2373 - accuracy: 0.8838 - val_loss: 0.6045 - val_accuracy: 0.7688\n",
            "Epoch 6/15\n",
            "625/625 [==============================] - 58s 92ms/step - loss: 0.2145 - accuracy: 0.8943 - val_loss: 0.6483 - val_accuracy: 0.7832\n",
            "Epoch 7/15\n",
            "625/625 [==============================] - 58s 92ms/step - loss: 0.1838 - accuracy: 0.9089 - val_loss: 0.8171 - val_accuracy: 0.8076\n",
            "Epoch 8/15\n",
            "625/625 [==============================] - 58s 93ms/step - loss: 0.1703 - accuracy: 0.9152 - val_loss: 0.8048 - val_accuracy: 0.7888\n",
            "Epoch 9/15\n",
            "625/625 [==============================] - 58s 92ms/step - loss: 0.1524 - accuracy: 0.9250 - val_loss: 0.7565 - val_accuracy: 0.8108\n",
            "Epoch 10/15\n",
            "625/625 [==============================] - 58s 92ms/step - loss: 0.1418 - accuracy: 0.9306 - val_loss: 0.5725 - val_accuracy: 0.8100\n",
            "Epoch 11/15\n",
            "625/625 [==============================] - 58s 92ms/step - loss: 0.1269 - accuracy: 0.9378 - val_loss: 1.0065 - val_accuracy: 0.7944\n",
            "Epoch 12/15\n",
            "625/625 [==============================] - 58s 92ms/step - loss: 0.1195 - accuracy: 0.9392 - val_loss: 0.6825 - val_accuracy: 0.8216\n",
            "Epoch 13/15\n",
            "625/625 [==============================] - 58s 93ms/step - loss: 0.1108 - accuracy: 0.9450 - val_loss: 0.8808 - val_accuracy: 0.7950\n"
          ]
        }
      ],
      "source": [
        "history = model.fit(train_dataset, validation_data=test_dataset, epochs=15, callbacks=[es_callback])"
      ]
    },
    {
      "cell_type": "code",
      "execution_count": 32,
      "metadata": {
        "id": "uJdy_HYLZPXA"
      },
      "outputs": [],
      "source": [
        "model.save(\"data_aug.h5\")"
      ]
    },
    {
      "cell_type": "code",
      "execution_count": 30,
      "metadata": {
        "colab": {
          "base_uri": "https://localhost:8080/",
          "height": 265
        },
        "id": "SDlTwo5WC2ox",
        "outputId": "18c8a6c0-925d-4237-9cc8-c2fe80a172fd"
      },
      "outputs": [
        {
          "data": {
            "image/png": "[encoded data removed]",
            "text/plain": [
              "<Figure size 432x288 with 1 Axes>"
            ]
          },
          "metadata": {
            "needs_background": "light"
          },
          "output_type": "display_data"
        }
      ],
      "source": [
        "import matplotlib.pyplot as plt\n",
        "\n",
        "plt.plot(history.history['accuracy'],color='red',label='train accuracy')\n",
        "plt.plot(history.history['val_accuracy'], color='green', label='validation accuracy')\n",
        "plt.legend()\n",
        "plt.show()"
      ]
    },
    {
      "cell_type": "code",
      "execution_count": 31,
      "metadata": {
        "colab": {
          "base_uri": "https://localhost:8080/",
          "height": 265
        },
        "id": "eiovlBd5DXSe",
        "outputId": "ab614c2f-8589-4d6e-f336-a3abe0853378"
      },
      "outputs": [
        {
          "data": {
            "image/png": "[encoded data removed]",
            "text/plain": [
              "<Figure size 432x288 with 1 Axes>"
            ]
          },
          "metadata": {
            "needs_background": "light"
          },
          "output_type": "display_data"
        }
      ],
      "source": [
        "plt.plot(history.history['loss'],color='red',label='train accuracy')\n",
        "plt.plot(history.history['val_loss'], color='green', label='validation accuracy')\n",
        "plt.legend()\n",
        "plt.show()"
      ]
    },
    {
      "cell_type": "code",
      "execution_count": null,
      "metadata": {
        "id": "lGOyC4o9HShj"
      },
      "outputs": [],
      "source": []
    }
  ],
  "metadata": {
    "accelerator": "GPU",
    "colab": {
      "provenance": []
    },
    "gpuClass": "standard",
    "kernelspec": {
      "display_name": "Python 3.10.2 64-bit",
      "language": "python",
      "name": "python3"
    },
    "language_info": {
      "name": "python",
      "version": "3.10.2"
    },
    "vscode": {
      "interpreter": {
        "hash": "26de051ba29f2982a8de78e945f0abaf191376122a1563185a90213a26c5da77"
      }
    }
  },
  "nbformat": 4,
  "nbformat_minor": 0
}
